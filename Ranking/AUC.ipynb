{
 "cells": [
  {
   "cell_type": "code",
   "execution_count": 3,
   "metadata": {
    "collapsed": true,
    "pycharm": {
     "is_executing": false
    }
   },
   "outputs": [
    {
     "name": "stdout",
     "output_type": "stream",
     "text": [
      "1.0\n0.75\n"
     ]
    }
   ],
   "source": [
    "### 真实值和预测值\n",
    "import numpy as np\n",
    "y_test = np.array([0,0,1,1])\n",
    "y_pred1 = np.array([0.3,0.1,0.35,0.7])\n",
    "y_pred2 = np.array([0,0,1,0])\n",
    "\n",
    "### 性能度量auc\n",
    "from sklearn.metrics import roc_auc_score\n",
    "\n",
    "# 预测值是概率\n",
    "auc_score1 = roc_auc_score(y_test,y_pred1)\n",
    "print(auc_score1)\n",
    "\n",
    "# 预测值是类别\n",
    "auc_score2 = roc_auc_score(y_test,y_pred2)\n",
    "print(auc_score2)"
   ]
  },
  {
   "cell_type": "code",
   "execution_count": null,
   "metadata": {
    "collapsed": false,
    "pycharm": {
     "name": "#%%\n"
    }
   },
   "outputs": [],
   "source": [
    "\n"
   ]
  }
 ],
 "metadata": {
  "kernelspec": {
   "display_name": "Python 3",
   "language": "python",
   "name": "python3"
  },
  "language_info": {
   "codemirror_mode": {
    "name": "ipython",
    "version": 2
   },
   "file_extension": ".py",
   "mimetype": "text/x-python",
   "name": "python",
   "nbconvert_exporter": "python",
   "pygments_lexer": "ipython2",
   "version": "2.7.6"
  },
  "pycharm": {
   "stem_cell": {
    "cell_type": "raw",
    "source": [],
    "metadata": {
     "collapsed": false
    }
   }
  }
 },
 "nbformat": 4,
 "nbformat_minor": 0
}
